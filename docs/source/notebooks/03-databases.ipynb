{
 "cells": [
  {
   "cell_type": "markdown",
   "id": "dfca5da2-3d10-4349-8a88-c589e049859e",
   "metadata": {},
   "source": [
    "# Databases"
   ]
  }
 ],
 "metadata": {
  "kernelspec": {
   "display_name": "Python 3 (ipykernel)",
   "language": "python",
   "name": "python3"
  },
  "language_info": {
   "codemirror_mode": {
    "name": "ipython",
    "version": 3
   },
   "file_extension": ".py",
   "mimetype": "text/x-python",
   "name": "python",
   "nbconvert_exporter": "python",
   "pygments_lexer": "ipython3",
   "version": "3.11.3"
  }
 },
 "nbformat": 4,
 "nbformat_minor": 5
}
