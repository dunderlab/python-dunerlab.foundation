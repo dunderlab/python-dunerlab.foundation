{
 "cells": [
  {
   "cell_type": "markdown",
   "id": "0",
   "metadata": {},
   "source": [
    "# Foundation"
   ]
  },
  {
   "cell_type": "markdown",
   "id": "989cf9c0-9bd0-4673-9584-31f680340786",
   "metadata": {},
   "source": [
    "Documentation will be here...\n",
    "\n",
    "\n",
    "[python-dunerlab.foundation](https://github.com/dunderlab/python-dunerlab.foundation)"
   ]
  }
 ],
 "metadata": {
  "kernelspec": {
   "display_name": "Python 3 (ipykernel)",
   "language": "python",
   "name": "python3"
  },
  "language_info": {
   "codemirror_mode": {
    "name": "ipython",
    "version": 3
   },
   "file_extension": ".py",
   "mimetype": "text/x-python",
   "name": "python",
   "nbconvert_exporter": "python",
   "pygments_lexer": "ipython3",
   "version": "3.11.3"
  }
 },
 "nbformat": 4,
 "nbformat_minor": 5
}
